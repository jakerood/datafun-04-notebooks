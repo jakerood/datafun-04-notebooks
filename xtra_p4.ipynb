{
 "cells": [
  {
   "cell_type": "markdown",
   "id": "bcf24440-d339-4272-8359-da761c340280",
   "metadata": {},
   "source": [
    "# Module 4 Bonus Exercise\n",
    "Author: [Jake Rood](https://github.com/jakerood)\n",
    "Date: 09-17-2023\n",
    "Repository: [datafun-04-notebooks](https://github.com/jakerood/datafun-04-notebooks)"
   ]
  },
  {
   "cell_type": "markdown",
   "id": "ed6b2f49-a851-46dc-94eb-b3244906a40b",
   "metadata": {},
   "source": [
    "## Create a List of Contacts"
   ]
  },
  {
   "cell_type": "code",
   "execution_count": 1,
   "id": "4acd41ff-2717-4eb2-aac5-e144b0b2c82b",
   "metadata": {},
   "outputs": [],
   "source": [
    "contacts = [['Mike Green', 'demo1@deitel.com', '5555555555'],\n",
    "            ['Sue Brown', 'demo2@deitel.com', '5555551234']]"
   ]
  },
  {
   "cell_type": "markdown",
   "id": "761fbc46-05e4-4d65-b095-b554898328ac",
   "metadata": {},
   "source": [
    "## Create a DataFrame"
   ]
  },
  {
   "cell_type": "code",
   "execution_count": 2,
   "id": "ac5b2730-cefc-4af4-a456-5ab173afdfa0",
   "metadata": {},
   "outputs": [],
   "source": [
    "import pandas as pd\n",
    "contactsdf = pd.DataFrame(contacts,\n",
    "                          columns=['Name', 'Email', 'Phone'])"
   ]
  },
  {
   "cell_type": "code",
   "execution_count": 3,
   "id": "d8c5fed2-1fc7-4a23-8991-498733cd524c",
   "metadata": {},
   "outputs": [
    {
     "data": {
      "text/html": [
       "<div>\n",
       "<style scoped>\n",
       "    .dataframe tbody tr th:only-of-type {\n",
       "        vertical-align: middle;\n",
       "    }\n",
       "\n",
       "    .dataframe tbody tr th {\n",
       "        vertical-align: top;\n",
       "    }\n",
       "\n",
       "    .dataframe thead th {\n",
       "        text-align: right;\n",
       "    }\n",
       "</style>\n",
       "<table border=\"1\" class=\"dataframe\">\n",
       "  <thead>\n",
       "    <tr style=\"text-align: right;\">\n",
       "      <th></th>\n",
       "      <th>Name</th>\n",
       "      <th>Email</th>\n",
       "      <th>Phone</th>\n",
       "    </tr>\n",
       "  </thead>\n",
       "  <tbody>\n",
       "    <tr>\n",
       "      <th>0</th>\n",
       "      <td>Mike Green</td>\n",
       "      <td>demo1@deitel.com</td>\n",
       "      <td>5555555555</td>\n",
       "    </tr>\n",
       "    <tr>\n",
       "      <th>1</th>\n",
       "      <td>Sue Brown</td>\n",
       "      <td>demo2@deitel.com</td>\n",
       "      <td>5555551234</td>\n",
       "    </tr>\n",
       "  </tbody>\n",
       "</table>\n",
       "</div>"
      ],
      "text/plain": [
       "         Name             Email       Phone\n",
       "0  Mike Green  demo1@deitel.com  5555555555\n",
       "1   Sue Brown  demo2@deitel.com  5555551234"
      ]
     },
     "execution_count": 3,
     "metadata": {},
     "output_type": "execute_result"
    }
   ],
   "source": [
    "contactsdf"
   ]
  },
  {
   "cell_type": "markdown",
   "id": "23d3c218-b603-49ea-98d1-8adc01e78c9f",
   "metadata": {},
   "source": [
    "## Create a Function"
   ]
  },
  {
   "cell_type": "code",
   "execution_count": 5,
   "id": "af5dfe07-d084-40ad-84b2-8d1c36e2baa1",
   "metadata": {},
   "outputs": [],
   "source": [
    "import re\n",
    "def get_formatted_phone(value):\n",
    "    result = re.fullmatch(r'(\\d{3})(\\d{3})(\\d{4})', value)\n",
    "    return '-'.join(result.groups()) if result else value"
   ]
  },
  {
   "cell_type": "markdown",
   "id": "f6e9ae57-19b6-41dc-b77b-7699b9229155",
   "metadata": {},
   "source": [
    "## Use Map() with Created Function"
   ]
  },
  {
   "cell_type": "code",
   "execution_count": 6,
   "id": "583f9c44-3aa0-4630-89fc-5a0641598d10",
   "metadata": {},
   "outputs": [],
   "source": [
    "formatted_phone = contactsdf['Phone'].map(get_formatted_phone)"
   ]
  },
  {
   "cell_type": "markdown",
   "id": "91f619c7-9071-4d53-bcb7-f9a51194e4f9",
   "metadata": {},
   "source": [
    "## Verify Phone Numbers Are Properly Formatted"
   ]
  },
  {
   "cell_type": "code",
   "execution_count": 7,
   "id": "aa9462d4-f5cd-41eb-be1e-3c530754b8a9",
   "metadata": {},
   "outputs": [
    {
     "data": {
      "text/plain": [
       "0    555-555-5555\n",
       "1    555-555-1234\n",
       "Name: Phone, dtype: object"
      ]
     },
     "execution_count": 7,
     "metadata": {},
     "output_type": "execute_result"
    }
   ],
   "source": [
    "formatted_phone"
   ]
  }
 ],
 "metadata": {
  "kernelspec": {
   "display_name": "Python 3 (ipykernel)",
   "language": "python",
   "name": "python3"
  },
  "language_info": {
   "codemirror_mode": {
    "name": "ipython",
    "version": 3
   },
   "file_extension": ".py",
   "mimetype": "text/x-python",
   "name": "python",
   "nbconvert_exporter": "python",
   "pygments_lexer": "ipython3",
   "version": "3.11.4"
  }
 },
 "nbformat": 4,
 "nbformat_minor": 5
}
