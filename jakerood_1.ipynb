{
 "cells": [
  {
   "cell_type": "markdown",
   "id": "a3677c15-3ff2-4f15-90b5-4af9360605b8",
   "metadata": {},
   "source": [
    "# Module 4 Project\n",
    "Author: [Jake Rood] (https://github.com/jakerood)\n",
    "Repository: [datafun-04-notebooks] (https://github.com/jakerood/datafun-04-notebooks"
   ]
  },
  {
   "cell_type": "markdown",
   "id": "4c4baaac-b673-4cd8-b51d-6172df32bbc5",
   "metadata": {},
   "source": [
    "## Task 1 - Series"
   ]
  },
  {
   "cell_type": "code",
   "execution_count": 2,
   "id": "22b41834-2e6c-4190-ba54-0c964adafee1",
   "metadata": {},
   "outputs": [],
   "source": [
    "import pandas as pd\n",
    "grades = pd.Series([87, 100, 94])"
   ]
  },
  {
   "cell_type": "code",
   "execution_count": 3,
   "id": "f16eb94e-e2c0-44e9-ba6c-6808584da27a",
   "metadata": {},
   "outputs": [
    {
     "data": {
      "text/plain": [
       "87"
      ]
     },
     "execution_count": 3,
     "metadata": {},
     "output_type": "execute_result"
    }
   ],
   "source": [
    "grades[0]"
   ]
  },
  {
   "cell_type": "code",
   "execution_count": 4,
   "id": "a432a72a-69a9-4ea2-a40e-6e1982a0ceba",
   "metadata": {},
   "outputs": [
    {
     "data": {
      "text/plain": [
       "3"
      ]
     },
     "execution_count": 4,
     "metadata": {},
     "output_type": "execute_result"
    }
   ],
   "source": [
    "grades.count()"
   ]
  },
  {
   "cell_type": "code",
   "execution_count": 5,
   "id": "c632cfd2-ce01-43a2-94b7-994d1d27b2e4",
   "metadata": {},
   "outputs": [
    {
     "data": {
      "text/plain": [
       "93.66666666666667"
      ]
     },
     "execution_count": 5,
     "metadata": {},
     "output_type": "execute_result"
    }
   ],
   "source": [
    "grades.mean()"
   ]
  },
  {
   "cell_type": "code",
   "execution_count": 6,
   "id": "db201ee3-05e0-445a-a21a-864811f6314f",
   "metadata": {},
   "outputs": [
    {
     "data": {
      "text/plain": [
       "87"
      ]
     },
     "execution_count": 6,
     "metadata": {},
     "output_type": "execute_result"
    }
   ],
   "source": [
    "grades.min()"
   ]
  },
  {
   "cell_type": "code",
   "execution_count": 8,
   "id": "8adcec69-b7b7-4dc6-b574-c4d5d81edd20",
   "metadata": {},
   "outputs": [
    {
     "data": {
      "text/plain": [
       "100"
      ]
     },
     "execution_count": 8,
     "metadata": {},
     "output_type": "execute_result"
    }
   ],
   "source": [
    "grades.max()"
   ]
  },
  {
   "cell_type": "code",
   "execution_count": 9,
   "id": "5a8632de-81f4-4c47-a8b2-4e317af1f91a",
   "metadata": {},
   "outputs": [
    {
     "data": {
      "text/plain": [
       "6.506407098647712"
      ]
     },
     "execution_count": 9,
     "metadata": {},
     "output_type": "execute_result"
    }
   ],
   "source": [
    "grades.std()"
   ]
  },
  {
   "cell_type": "code",
   "execution_count": 10,
   "id": "add51cc8-510b-4c61-b1ee-453e3f8a35b8",
   "metadata": {},
   "outputs": [
    {
     "data": {
      "text/plain": [
       "count      3.000000\n",
       "mean      93.666667\n",
       "std        6.506407\n",
       "min       87.000000\n",
       "25%       90.500000\n",
       "50%       94.000000\n",
       "75%       97.000000\n",
       "max      100.000000\n",
       "dtype: float64"
      ]
     },
     "execution_count": 10,
     "metadata": {},
     "output_type": "execute_result"
    }
   ],
   "source": [
    "grades.describe()"
   ]
  },
  {
   "cell_type": "markdown",
   "id": "f67e008d-2b18-420e-b20f-8314fc8fa62f",
   "metadata": {},
   "source": [
    "## Task 2 - Series from Dictionary"
   ]
  },
  {
   "cell_type": "code",
   "execution_count": 12,
   "id": "5d668aa2-aed0-4cac-a8c2-b5cdcdad9a33",
   "metadata": {},
   "outputs": [],
   "source": [
    "grades = pd.Series({'Wally': 87, 'Eva': 100, 'Sam': 94})"
   ]
  },
  {
   "cell_type": "code",
   "execution_count": 13,
   "id": "ecd27fe9-9f5c-41e6-8744-160cdc46f616",
   "metadata": {},
   "outputs": [
    {
     "data": {
      "text/plain": [
       "Wally     87\n",
       "Eva      100\n",
       "Sam       94\n",
       "dtype: int64"
      ]
     },
     "execution_count": 13,
     "metadata": {},
     "output_type": "execute_result"
    }
   ],
   "source": [
    "grades"
   ]
  },
  {
   "cell_type": "code",
   "execution_count": 14,
   "id": "97131d55-bb05-49c4-ad23-d9631bf6835f",
   "metadata": {},
   "outputs": [
    {
     "data": {
      "text/plain": [
       "100"
      ]
     },
     "execution_count": 14,
     "metadata": {},
     "output_type": "execute_result"
    }
   ],
   "source": [
    "grades['Eva']"
   ]
  },
  {
   "cell_type": "code",
   "execution_count": 15,
   "id": "53f50a97-c9cc-4520-9ded-ea4ca14a6027",
   "metadata": {},
   "outputs": [
    {
     "data": {
      "text/plain": [
       "87"
      ]
     },
     "execution_count": 15,
     "metadata": {},
     "output_type": "execute_result"
    }
   ],
   "source": [
    "grades.Wally"
   ]
  },
  {
   "cell_type": "code",
   "execution_count": 16,
   "id": "a3222998-8b4c-4b04-bbda-3b1489123d23",
   "metadata": {},
   "outputs": [
    {
     "data": {
      "text/plain": [
       "array([ 87, 100,  94])"
      ]
     },
     "execution_count": 16,
     "metadata": {},
     "output_type": "execute_result"
    }
   ],
   "source": [
    "grades.values"
   ]
  },
  {
   "cell_type": "code",
   "execution_count": 19,
   "id": "54c0d443-3e03-4550-a31d-f446968b4d95",
   "metadata": {},
   "outputs": [],
   "source": [
    "import numpy as np\n",
    "temps = np.random.randint(60, 101, 5)"
   ]
  },
  {
   "cell_type": "code",
   "execution_count": 20,
   "id": "2ba980fc-9acb-48a5-a60e-ea1169304d2b",
   "metadata": {},
   "outputs": [],
   "source": [
    "temperatures = pd.Series(temps)"
   ]
  },
  {
   "cell_type": "code",
   "execution_count": 21,
   "id": "f9dc0d65-7e9f-4c92-9452-a1b91be3f59d",
   "metadata": {},
   "outputs": [
    {
     "data": {
      "text/plain": [
       "0    84\n",
       "1    89\n",
       "2    66\n",
       "3    91\n",
       "4    76\n",
       "dtype: int64"
      ]
     },
     "execution_count": 21,
     "metadata": {},
     "output_type": "execute_result"
    }
   ],
   "source": [
    "temperatures"
   ]
  },
  {
   "cell_type": "code",
   "execution_count": 22,
   "id": "111bdfec-7651-42a9-a1b7-60f17b2558a2",
   "metadata": {},
   "outputs": [
    {
     "data": {
      "text/plain": [
       "66"
      ]
     },
     "execution_count": 22,
     "metadata": {},
     "output_type": "execute_result"
    }
   ],
   "source": [
    "temperatures.min()"
   ]
  },
  {
   "cell_type": "code",
   "execution_count": 23,
   "id": "f1de1174-f014-4f65-83bb-88a6b464292a",
   "metadata": {},
   "outputs": [
    {
     "data": {
      "text/plain": [
       "91"
      ]
     },
     "execution_count": 23,
     "metadata": {},
     "output_type": "execute_result"
    }
   ],
   "source": [
    "temperatures.max()"
   ]
  },
  {
   "cell_type": "code",
   "execution_count": 24,
   "id": "ad30b693-c22b-498c-a672-4c6e2d17ed93",
   "metadata": {},
   "outputs": [
    {
     "data": {
      "text/plain": [
       "81.2"
      ]
     },
     "execution_count": 24,
     "metadata": {},
     "output_type": "execute_result"
    }
   ],
   "source": [
    "temperatures.mean()"
   ]
  },
  {
   "cell_type": "code",
   "execution_count": 25,
   "id": "35ebc14a-ef8b-4920-b6ee-d0828df005f2",
   "metadata": {},
   "outputs": [
    {
     "data": {
      "text/plain": [
       "count     5.000000\n",
       "mean     81.200000\n",
       "std      10.281051\n",
       "min      66.000000\n",
       "25%      76.000000\n",
       "50%      84.000000\n",
       "75%      89.000000\n",
       "max      91.000000\n",
       "dtype: float64"
      ]
     },
     "execution_count": 25,
     "metadata": {},
     "output_type": "execute_result"
    }
   ],
   "source": [
    "temperatures.describe()"
   ]
  }
 ],
 "metadata": {
  "kernelspec": {
   "display_name": "Python 3 (ipykernel)",
   "language": "python",
   "name": "python3"
  },
  "language_info": {
   "codemirror_mode": {
    "name": "ipython",
    "version": 3
   },
   "file_extension": ".py",
   "mimetype": "text/x-python",
   "name": "python",
   "nbconvert_exporter": "python",
   "pygments_lexer": "ipython3",
   "version": "3.11.4"
  }
 },
 "nbformat": 4,
 "nbformat_minor": 5
}
