{
 "cells": [
  {
   "cell_type": "markdown",
   "id": "6bb35a82-1841-4b83-b05d-918aa8c4615f",
   "metadata": {},
   "source": [
    "# Module 4 Project\n",
    "Author: [Jake Rood] (https://github.com/jakerood)\n",
    "Repository: [datafun-04-notebooks] (https://github.com/jakerood/datafun-04-notebooks"
   ]
  },
  {
   "cell_type": "markdown",
   "id": "0bd725fa-a23f-453f-a40b-d75923fcde81",
   "metadata": {},
   "source": [
    "## Task 1 - Series"
   ]
  },
  {
   "cell_type": "code",
   "execution_count": 2,
   "id": "275b10fb-0a65-428a-a452-ec06ad3ed4cd",
   "metadata": {},
   "outputs": [
    {
     "data": {
      "text/plain": [
       "75"
      ]
     },
     "execution_count": 2,
     "metadata": {},
     "output_type": "execute_result"
    }
   ],
   "source": [
    "import pandas as pd\n",
    "grades = pd.Series([75, 88, 96, 67, 98, 100, 95, 93, 87, 81, 75, 74, 80])\n",
    "grades[0]"
   ]
  },
  {
   "cell_type": "code",
   "execution_count": 3,
   "id": "fd6b683a-667f-4f1f-9fde-2c1ec7de030c",
   "metadata": {},
   "outputs": [
    {
     "data": {
      "text/plain": [
       "count     13.000000\n",
       "mean      85.307692\n",
       "std       10.711245\n",
       "min       67.000000\n",
       "25%       75.000000\n",
       "50%       87.000000\n",
       "75%       95.000000\n",
       "max      100.000000\n",
       "dtype: float64"
      ]
     },
     "execution_count": 3,
     "metadata": {},
     "output_type": "execute_result"
    }
   ],
   "source": [
    "grades.describe()"
   ]
  },
  {
   "cell_type": "code",
   "execution_count": null,
   "id": "ceafe971-ca17-442c-aa74-72f03d39122b",
   "metadata": {},
   "outputs": [],
   "source": []
  }
 ],
 "metadata": {
  "kernelspec": {
   "display_name": "Python 3 (ipykernel)",
   "language": "python",
   "name": "python3"
  },
  "language_info": {
   "codemirror_mode": {
    "name": "ipython",
    "version": 3
   },
   "file_extension": ".py",
   "mimetype": "text/x-python",
   "name": "python",
   "nbconvert_exporter": "python",
   "pygments_lexer": "ipython3",
   "version": "3.11.4"
  }
 },
 "nbformat": 4,
 "nbformat_minor": 5
}
