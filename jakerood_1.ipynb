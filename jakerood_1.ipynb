{
 "cells": [
  {
   "cell_type": "markdown",
   "id": "6bb35a82-1841-4b83-b05d-918aa8c4615f",
   "metadata": {},
   "source": [
    "# Module 4 Project\n",
    "Author: Jake Rood (https://github.com/jakerood)\n",
    "Repository: datafun-04-notebooks"
   ]
  }
 ],
 "metadata": {
  "kernelspec": {
   "display_name": "Python 3 (ipykernel)",
   "language": "python",
   "name": "python3"
  },
  "language_info": {
   "codemirror_mode": {
    "name": "ipython",
    "version": 3
   },
   "file_extension": ".py",
   "mimetype": "text/x-python",
   "name": "python",
   "nbconvert_exporter": "python",
   "pygments_lexer": "ipython3",
   "version": "3.11.4"
  }
 },
 "nbformat": 4,
 "nbformat_minor": 5
}
